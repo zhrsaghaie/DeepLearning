{
  "nbformat": 4,
  "nbformat_minor": 0,
  "metadata": {
    "colab": {
      "provenance": [],
      "authorship_tag": "ABX9TyM/RaLBY72luaXaNJ5oCB5n",
      "include_colab_link": true
    },
    "kernelspec": {
      "name": "python3",
      "display_name": "Python 3"
    },
    "language_info": {
      "name": "python"
    }
  },
  "cells": [
    {
      "cell_type": "markdown",
      "metadata": {
        "id": "view-in-github",
        "colab_type": "text"
      },
      "source": [
        "<a href=\"https://colab.research.google.com/github/zhrsaghaie/DeepLearning/blob/main/CNN%2BDenseNN_with_Pytorch_on_Mnist.ipynb\" target=\"_parent\"><img src=\"https://colab.research.google.com/assets/colab-badge.svg\" alt=\"Open In Colab\"/></a>"
      ]
    },
    {
      "cell_type": "code",
      "source": [
        "import torch\n",
        "import torch.nn as nn\n",
        "from torch.utils.data import DataLoader\n",
        "from torchvision import datasets\n",
        "from torchvision.transforms import ToTensor"
      ],
      "metadata": {
        "id": "Ln4uYG5aiiM1"
      },
      "execution_count": 2,
      "outputs": []
    },
    {
      "cell_type": "code",
      "source": [
        "NUM_CLASSES = 10\n",
        "BATCH_SIZE = 100\n",
        "EPOCHS = 10\n",
        "LEARNING_RATE = 0.001"
      ],
      "metadata": {
        "id": "pHu6uqMQjzyk"
      },
      "execution_count": 3,
      "outputs": []
    },
    {
      "cell_type": "code",
      "source": [
        "# Load the MNIST dataset\n",
        "train_data = datasets.MNIST(root=\"data\", train=True,  download=True, transform=ToTensor())\n",
        "test_data =  datasets.MNIST(root=\"data\", train=False, download=True, transform=ToTensor())"
      ],
      "metadata": {
        "colab": {
          "base_uri": "https://localhost:8080/"
        },
        "id": "wm54Um6yjDZ2",
        "outputId": "2320bbc2-7a2f-4a83-e99a-82abf6a8e212"
      },
      "execution_count": 4,
      "outputs": [
        {
          "output_type": "stream",
          "name": "stdout",
          "text": [
            "Downloading http://yann.lecun.com/exdb/mnist/train-images-idx3-ubyte.gz\n",
            "Downloading http://yann.lecun.com/exdb/mnist/train-images-idx3-ubyte.gz to data/MNIST/raw/train-images-idx3-ubyte.gz\n"
          ]
        },
        {
          "output_type": "stream",
          "name": "stderr",
          "text": [
            "100%|██████████| 9912422/9912422 [00:00<00:00, 331523596.93it/s]"
          ]
        },
        {
          "output_type": "stream",
          "name": "stdout",
          "text": [
            "Extracting data/MNIST/raw/train-images-idx3-ubyte.gz to data/MNIST/raw\n"
          ]
        },
        {
          "output_type": "stream",
          "name": "stderr",
          "text": [
            "\n"
          ]
        },
        {
          "output_type": "stream",
          "name": "stdout",
          "text": [
            "\n",
            "Downloading http://yann.lecun.com/exdb/mnist/train-labels-idx1-ubyte.gz\n",
            "Downloading http://yann.lecun.com/exdb/mnist/train-labels-idx1-ubyte.gz to data/MNIST/raw/train-labels-idx1-ubyte.gz\n"
          ]
        },
        {
          "output_type": "stream",
          "name": "stderr",
          "text": [
            "100%|██████████| 28881/28881 [00:00<00:00, 26782156.49it/s]\n"
          ]
        },
        {
          "output_type": "stream",
          "name": "stdout",
          "text": [
            "Extracting data/MNIST/raw/train-labels-idx1-ubyte.gz to data/MNIST/raw\n",
            "\n",
            "Downloading http://yann.lecun.com/exdb/mnist/t10k-images-idx3-ubyte.gz\n",
            "Downloading http://yann.lecun.com/exdb/mnist/t10k-images-idx3-ubyte.gz to data/MNIST/raw/t10k-images-idx3-ubyte.gz\n"
          ]
        },
        {
          "output_type": "stream",
          "name": "stderr",
          "text": [
            "100%|██████████| 1648877/1648877 [00:00<00:00, 186931140.27it/s]"
          ]
        },
        {
          "output_type": "stream",
          "name": "stdout",
          "text": [
            "Extracting data/MNIST/raw/t10k-images-idx3-ubyte.gz to data/MNIST/raw\n",
            "\n",
            "Downloading http://yann.lecun.com/exdb/mnist/t10k-labels-idx1-ubyte.gz\n",
            "Downloading http://yann.lecun.com/exdb/mnist/t10k-labels-idx1-ubyte.gz to data/MNIST/raw/t10k-labels-idx1-ubyte.gz\n"
          ]
        },
        {
          "output_type": "stream",
          "name": "stderr",
          "text": [
            "\n",
            "100%|██████████| 4542/4542 [00:00<00:00, 11996554.64it/s]\n"
          ]
        },
        {
          "output_type": "stream",
          "name": "stdout",
          "text": [
            "Extracting data/MNIST/raw/t10k-labels-idx1-ubyte.gz to data/MNIST/raw\n",
            "\n"
          ]
        }
      ]
    },
    {
      "cell_type": "code",
      "source": [
        "train_data"
      ],
      "metadata": {
        "colab": {
          "base_uri": "https://localhost:8080/"
        },
        "id": "OjSmm_nOiv6q",
        "outputId": "1d067477-3f1d-4938-db1e-6db690768faa"
      },
      "execution_count": 5,
      "outputs": [
        {
          "output_type": "execute_result",
          "data": {
            "text/plain": [
              "Dataset MNIST\n",
              "    Number of datapoints: 60000\n",
              "    Root location: data\n",
              "    Split: Train\n",
              "    StandardTransform\n",
              "Transform: ToTensor()"
            ]
          },
          "metadata": {},
          "execution_count": 5
        }
      ]
    },
    {
      "cell_type": "code",
      "source": [
        "print(train_data.data.size())\n",
        "print(train_data.targets.size())"
      ],
      "metadata": {
        "colab": {
          "base_uri": "https://localhost:8080/"
        },
        "id": "AfS0LQGelnwV",
        "outputId": "cbc7a580-6018-4b88-8bca-bfebc3e910cc"
      },
      "execution_count": 6,
      "outputs": [
        {
          "output_type": "stream",
          "name": "stdout",
          "text": [
            "torch.Size([60000, 28, 28])\n",
            "torch.Size([60000])\n"
          ]
        }
      ]
    },
    {
      "cell_type": "code",
      "source": [
        "import matplotlib.pyplot as plt\n",
        "plt.imshow(train_data.data[0])\n",
        "# plt.title('%i' % train_data.targets[0])\n",
        "plt.xlabel(f\"{train_data.targets[0]}\")\n",
        "plt.show()"
      ],
      "metadata": {
        "colab": {
          "base_uri": "https://localhost:8080/",
          "height": 449
        },
        "id": "0HWRuSihl8kM",
        "outputId": "8dfa5c6e-d9ee-4f68-ccd0-b790e603f080"
      },
      "execution_count": 7,
      "outputs": [
        {
          "output_type": "display_data",
          "data": {
            "text/plain": [
              "<Figure size 640x480 with 1 Axes>"
            ],
            "image/png": "[encoded data removed]"
          },
          "metadata": {}
        }
      ]
    },
    {
      "cell_type": "code",
      "source": [
        "figure = plt.figure(figsize=(10, 3))\n",
        "cols, rows = 10, 2\n",
        "for i in range(1, cols * rows + 1):\n",
        "    sample_idx = torch.randint(len(train_data), size=(1,)).item()\n",
        "    img, label = train_data[sample_idx]\n",
        "    figure.add_subplot(rows, cols, i)\n",
        "    plt.title(label)\n",
        "    plt.axis(\"off\")\n",
        "    plt.imshow(img.squeeze(), cmap=\"gray\")\n",
        "plt.show()"
      ],
      "metadata": {
        "colab": {
          "base_uri": "https://localhost:8080/",
          "height": 251
        },
        "id": "CKAPHokxmVHK",
        "outputId": "f5d4f897-dd9e-4cce-c2e4-cc6099fb84ce"
      },
      "execution_count": 8,
      "outputs": [
        {
          "output_type": "display_data",
          "data": {
            "text/plain": [
              "<Figure size 1000x300 with 20 Axes>"
            ],
            "image/png": "[encoded data removed]"
          },
          "metadata": {}
        }
      ]
    },
    {
      "cell_type": "code",
      "source": [
        "train_loader = torch.utils.data.DataLoader(train_data, batch_size=BATCH_SIZE, shuffle=True)\n",
        "test_loader = torch.utils.data.DataLoader(test_data, batch_size=BATCH_SIZE, shuffle=False)\n",
        "\n",
        "\n",
        "# Iterate over the dataloader\n",
        "for i, (images, labels) in enumerate(train_loader):\n",
        "  # Do something with the images and labels\n",
        "  print(images.shape)\n",
        "  print(labels.shape)\n",
        "  break\n"
      ],
      "metadata": {
        "colab": {
          "base_uri": "https://localhost:8080/"
        },
        "id": "7JsRkvbDjuH5",
        "outputId": "510ec72a-8671-49b9-b5d5-803e49eb3eee"
      },
      "execution_count": 5,
      "outputs": [
        {
          "output_type": "stream",
          "name": "stdout",
          "text": [
            "torch.Size([100, 1, 28, 28])\n",
            "torch.Size([100])\n"
          ]
        }
      ]
    },
    {
      "cell_type": "code",
      "source": [
        "# Define the model\n",
        "model = nn.Sequential(\n",
        "    nn.Conv2d(1, 16, kernel_size=(3, 3)),  #output: (26*26) * 16 channels\n",
        "    nn.ReLU(),\n",
        "    nn.MaxPool2d(2),  # output : (13*13) * 16\n",
        "\n",
        "    nn.Conv2d(16, 10, kernel_size=(3, 3)),  # output : (11*11) * 10\n",
        "    nn.ReLU(),\n",
        "    nn.MaxPool2d(2),  # output : (5*5) * 10\n",
        "    nn.Flatten(),\n",
        "\n",
        "    nn.Linear(250, 10),\n",
        "    nn.Softmax(dim=1)\n",
        ")\n",
        "\n",
        "model"
      ],
      "metadata": {
        "colab": {
          "base_uri": "https://localhost:8080/"
        },
        "id": "LMAX7YxzipxK",
        "outputId": "ade350ab-ca08-48e1-f26c-087b38ecd842"
      },
      "execution_count": 6,
      "outputs": [
        {
          "output_type": "execute_result",
          "data": {
            "text/plain": [
              "Sequential(\n",
              "  (0): Conv2d(1, 16, kernel_size=(3, 3), stride=(1, 1))\n",
              "  (1): ReLU()\n",
              "  (2): MaxPool2d(kernel_size=2, stride=2, padding=0, dilation=1, ceil_mode=False)\n",
              "  (3): Conv2d(16, 10, kernel_size=(3, 3), stride=(1, 1))\n",
              "  (4): ReLU()\n",
              "  (5): MaxPool2d(kernel_size=2, stride=2, padding=0, dilation=1, ceil_mode=False)\n",
              "  (6): Flatten(start_dim=1, end_dim=-1)\n",
              "  (7): Linear(in_features=250, out_features=10, bias=True)\n",
              "  (8): Softmax(dim=1)\n",
              ")"
            ]
          },
          "metadata": {},
          "execution_count": 6
        }
      ]
    },
    {
      "cell_type": "code",
      "source": [
        "from torchsummary import summary\n",
        "\n",
        "summary(model, (1, 28, 28))"
      ],
      "metadata": {
        "colab": {
          "base_uri": "https://localhost:8080/"
        },
        "id": "qopVRQ_rdZCR",
        "outputId": "40acb793-2947-474c-9631-ce81dc966a63"
      },
      "execution_count": 9,
      "outputs": [
        {
          "output_type": "stream",
          "name": "stdout",
          "text": [
            "----------------------------------------------------------------\n",
            "        Layer (type)               Output Shape         Param #\n",
            "================================================================\n",
            "            Conv2d-1           [-1, 16, 26, 26]             160\n",
            "              ReLU-2           [-1, 16, 26, 26]               0\n",
            "         MaxPool2d-3           [-1, 16, 13, 13]               0\n",
            "            Conv2d-4           [-1, 10, 11, 11]           1,450\n",
            "              ReLU-5           [-1, 10, 11, 11]               0\n",
            "         MaxPool2d-6             [-1, 10, 5, 5]               0\n",
            "           Flatten-7                  [-1, 250]               0\n",
            "            Linear-8                   [-1, 10]           2,510\n",
            "           Softmax-9                   [-1, 10]               0\n",
            "================================================================\n",
            "Total params: 4,120\n",
            "Trainable params: 4,120\n",
            "Non-trainable params: 0\n",
            "----------------------------------------------------------------\n",
            "Input size (MB): 0.00\n",
            "Forward/backward pass size (MB): 0.21\n",
            "Params size (MB): 0.02\n",
            "Estimated Total Size (MB): 0.23\n",
            "----------------------------------------------------------------\n"
          ]
        }
      ]
    },
    {
      "cell_type": "code",
      "source": [
        "# Train the model\n",
        "optimizer = torch.optim.Adam(model.parameters(), lr= LEARNING_RATE)\n",
        "loss_function = nn.CrossEntropyLoss()\n",
        "\n",
        "print(f\"{optimizer = }\")\n",
        "print(f\"{loss_function = }\")\n"
      ],
      "metadata": {
        "colab": {
          "base_uri": "https://localhost:8080/"
        },
        "id": "9KnbZhyjuCHj",
        "outputId": "3c89988a-bc1e-4992-c677-8c388f8b41ae"
      },
      "execution_count": null,
      "outputs": [
        {
          "output_type": "stream",
          "name": "stdout",
          "text": [
            "optimizer = Adam (\n",
            "Parameter Group 0\n",
            "    amsgrad: False\n",
            "    betas: (0.9, 0.999)\n",
            "    capturable: False\n",
            "    differentiable: False\n",
            "    eps: 1e-08\n",
            "    foreach: None\n",
            "    fused: None\n",
            "    lr: 0.001\n",
            "    maximize: False\n",
            "    weight_decay: 0\n",
            ")\n",
            "loss_function = CrossEntropyLoss()\n"
          ]
        }
      ]
    },
    {
      "cell_type": "code",
      "source": [
        "def one_hot(labels, num_classes):\n",
        "    return torch.eye(num_classes)[labels]"
      ],
      "metadata": {
        "id": "5Z5BLacoxp2L"
      },
      "execution_count": null,
      "outputs": []
    },
    {
      "cell_type": "code",
      "source": [
        "train_loader.dataset.train_data.size()"
      ],
      "metadata": {
        "colab": {
          "base_uri": "https://localhost:8080/"
        },
        "id": "9DYOT2Jnx-QS",
        "outputId": "3428f732-db1a-4c0b-f791-fe2943e37b26"
      },
      "execution_count": null,
      "outputs": [
        {
          "output_type": "execute_result",
          "data": {
            "text/plain": [
              "torch.Size([60000, 28, 28])"
            ]
          },
          "metadata": {},
          "execution_count": 72
        }
      ]
    },
    {
      "cell_type": "code",
      "source": [
        "train_loader.dataset.train_labels.size()"
      ],
      "metadata": {
        "colab": {
          "base_uri": "https://localhost:8080/"
        },
        "id": "tQV0ZX27yShe",
        "outputId": "05f56a26-aef6-4337-c51f-191dd83e2cfa"
      },
      "execution_count": null,
      "outputs": [
        {
          "output_type": "execute_result",
          "data": {
            "text/plain": [
              "torch.Size([60000])"
            ]
          },
          "metadata": {},
          "execution_count": 71
        }
      ]
    },
    {
      "cell_type": "code",
      "source": [
        "from torch.autograd import Variable\n",
        "\n",
        "\n",
        "\n",
        "\n",
        "# for epoch in range(1):\n",
        "for epoch in range(EPOCHS):\n",
        "\n",
        "  # Total size of dataset for reference\n",
        "  size = 0\n",
        "\n",
        "  correct = 0\n",
        "  _correct = 0\n",
        "\n",
        "  for inputs, labels in train_loader:\n",
        "    images = Variable(inputs)   # batch x\n",
        "    target = Variable(labels)   # batch y\n",
        "\n",
        "    predictions = model(images)\n",
        "    one_hot_target = one_hot(target, NUM_CLASSES)\n",
        "    loss = loss_function(predictions,  one_hot_target)\n",
        "\n",
        "    # print(f\"{predictions.argmax(1) = }\")\n",
        "    # print(f\"{predictions.argmax(1).shape = }\")\n",
        "    # print(f\"{b_y.shape = }\")\n",
        "    # break\n",
        "\n",
        "\n",
        "\n",
        "    optimizer.zero_grad()\n",
        "    loss.backward()\n",
        "    optimizer.step()\n",
        "\n",
        "\n",
        "\n",
        "    _correct = (predictions.argmax(1) == target).type(torch.float).sum().item()\n",
        "    _batch_size = len(inputs)\n",
        "\n",
        "    correct += _correct\n",
        "    size += _batch_size\n",
        "\n",
        "    loss = loss.item()\n",
        "\n",
        "\n",
        "  correct/=size\n",
        "\n",
        "  print(f\"epoch #{epoch + 1}\\t loss: {loss:.4f}\")\n",
        "  print(f\"Train Accuracy: {(100*correct):>0.1f}%\")\n",
        "\n",
        "\n",
        "\n",
        "print(\"Training finished!\")\n"
      ],
      "metadata": {
        "colab": {
          "base_uri": "https://localhost:8080/"
        },
        "id": "njPpVM7RikvX",
        "outputId": "49e028c7-fcc1-4229-c11a-b744341018d8"
      },
      "execution_count": null,
      "outputs": [
        {
          "output_type": "stream",
          "name": "stdout",
          "text": [
            "epoch #1\t loss: 1.6073\n",
            "Train Accuracy: 88.7%\n",
            "epoch #2\t loss: 1.5786\n",
            "Train Accuracy: 88.9%\n",
            "epoch #3\t loss: 1.5351\n",
            "Train Accuracy: 89.0%\n",
            "epoch #4\t loss: 1.5551\n",
            "Train Accuracy: 89.1%\n",
            "epoch #5\t loss: 1.5673\n",
            "Train Accuracy: 89.2%\n",
            "epoch #6\t loss: 1.5450\n",
            "Train Accuracy: 89.3%\n",
            "epoch #7\t loss: 1.6205\n",
            "Train Accuracy: 89.4%\n",
            "epoch #8\t loss: 1.5487\n",
            "Train Accuracy: 89.5%\n",
            "epoch #9\t loss: 1.5891\n",
            "Train Accuracy: 89.5%\n",
            "epoch #10\t loss: 1.6177\n",
            "Train Accuracy: 89.5%\n",
            "Training finished!\n"
          ]
        }
      ]
    },
    {
      "cell_type": "code",
      "source": [
        "# Evaluate the model\n",
        "def test():\n",
        "  # Test the model\n",
        "  model.eval()\n",
        "  with torch.no_grad():\n",
        "    correct = 0\n",
        "    total = 0\n",
        "    for images, labels in test_loader:\n",
        "      test_output = model(images)\n",
        "\n",
        "\n",
        "      correct = (test_output.argmax(1) == labels).type(torch.float).sum().item()\n",
        "      accuracy = correct / float(labels.size(0))\n",
        "\n",
        "  # print('Test Accuracy of the model on the 10000 test images: %.2f' % accuracy)\n",
        "  print(f\"Test Accuracy of the model on the {len(test_loader) * BATCH_SIZE} test images:: {(100*accuracy):>0.1f}%\")\n",
        "\n",
        "\n",
        "test()\n"
      ],
      "metadata": {
        "colab": {
          "base_uri": "https://localhost:8080/"
        },
        "id": "rTQkWwmlikyg",
        "outputId": "27eaaf58-0a70-498f-dc38-b14d4725ac04"
      },
      "execution_count": null,
      "outputs": [
        {
          "output_type": "stream",
          "name": "stdout",
          "text": [
            "Test Accuracy of the model on the 10000 test images:: 93.0%\n"
          ]
        }
      ]
    }
  ]
}