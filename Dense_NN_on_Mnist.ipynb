{
  "nbformat": 4,
  "nbformat_minor": 0,
  "metadata": {
    "colab": {
      "provenance": [],
      "authorship_tag": "ABX9TyPt/t3IvnLD55oi1UKPmKT8",
      "include_colab_link": true
    },
    "kernelspec": {
      "name": "python3",
      "display_name": "Python 3"
    },
    "language_info": {
      "name": "python"
    }
  },
  "cells": [
    {
      "cell_type": "markdown",
      "metadata": {
        "id": "view-in-github",
        "colab_type": "text"
      },
      "source": [
        "<a href=\"https://colab.research.google.com/github/zhrsaghaie/DeepLearning/blob/main/Dense_NN_on_Mnist.ipynb\" target=\"_parent\"><img src=\"https://colab.research.google.com/assets/colab-badge.svg\" alt=\"Open In Colab\"/></a>"
      ]
    },
    {
      "cell_type": "code",
      "execution_count": null,
      "metadata": {
        "id": "hxgwdK6QKN0q"
      },
      "outputs": [],
      "source": [
        "import torch\n",
        "import torch.nn as nn\n",
        "from torch.utils.data import DataLoader\n",
        "from torchvision import datasets\n",
        "from torchvision.transforms import ToTensor\n",
        "\n",
        "import matplotlib.pyplot as plt\n",
        "%matplotlib inline"
      ]
    },
    {
      "cell_type": "code",
      "source": [
        "class Network(nn.Module):\n",
        "    def __init__(self):\n",
        "      super().__init__()\n",
        "      self.flatten = nn.Flatten()\n",
        "      self.dense_layers = nn.Sequential(\n",
        "          nn.Linear(28 * 28, 256),\n",
        "          nn.ReLU(),\n",
        "          nn.Linear(256, 10)\n",
        "      )\n",
        "      self.softmax = nn.Softmax(dim=1)\n",
        "\n",
        "    def forward(self, x_train_i):\n",
        "      x = self.flatten(x_train_i)\n",
        "      logits = self.dense_layers(x)\n",
        "      predictions = self.softmax(logits)\n",
        "\n",
        "      return predictions\n"
      ],
      "metadata": {
        "id": "8Xmpt7ko1hRn"
      },
      "execution_count": null,
      "outputs": []
    },
    {
      "cell_type": "code",
      "source": [
        "def one_hot(labels, num_classes):\n",
        "    return torch.eye(num_classes)[labels]"
      ],
      "metadata": {
        "id": "WqEn-pisuTrM"
      },
      "execution_count": null,
      "outputs": []
    },
    {
      "cell_type": "code",
      "source": [
        "NUM_CLASSES = 10\n",
        "BATCH_SIZE = 128\n",
        "EPOCHS = 10\n",
        "LEARNING_RATE = 0.001\n",
        "\n",
        "\n",
        "# download data and create data loader\n",
        "train_data = datasets.MNIST(root=\"data\", train=True,  download=True, transform=ToTensor())\n",
        "test_data =  datasets.MNIST(root=\"data\", train=False, download=True, transform=ToTensor())\n",
        "# print(train_data[0][0])  -> the input: pixels of 5 in 28*28 array\n",
        "# print(train_data[0][1])  -> the lable: 5\n",
        "\n",
        "\n",
        "# Convert integer labels to one-hot labels for train and test sets\n",
        "# num_classes = 10\n",
        "# train_data.targets = one_hot(train_data.targets, num_classes)\n",
        "# test_data.targets = one_hot(test_data.targets, num_classes)\n",
        "\n",
        "\n",
        "train_loader = torch.utils.data.DataLoader(train_data, batch_size=BATCH_SIZE, shuffle=True)\n",
        "test_loader = torch.utils.data.DataLoader(test_data, batch_size=BATCH_SIZE, shuffle=False)\n",
        "\n",
        "# # Iterate over the dataloader\n",
        "# for i, (images, labels) in enumerate(train_loader):\n",
        "#   # Do something with the images and labels\n",
        "#   print(images.shape)\n",
        "#   print(labels.shape)\n",
        "#   break\n"
      ],
      "metadata": {
        "colab": {
          "base_uri": "https://localhost:8080/"
        },
        "id": "UtTikmmbkmAP",
        "outputId": "48a6c16b-4753-4973-b7af-6843a3eb9951"
      },
      "execution_count": null,
      "outputs": [
        {
          "output_type": "stream",
          "name": "stdout",
          "text": [
            "Downloading http://yann.lecun.com/exdb/mnist/train-images-idx3-ubyte.gz\n",
            "Downloading http://yann.lecun.com/exdb/mnist/train-images-idx3-ubyte.gz to data/MNIST/raw/train-images-idx3-ubyte.gz\n"
          ]
        },
        {
          "output_type": "stream",
          "name": "stderr",
          "text": [
            "100%|██████████| 9912422/9912422 [00:00<00:00, 92215464.97it/s]\n"
          ]
        },
        {
          "output_type": "stream",
          "name": "stdout",
          "text": [
            "Extracting data/MNIST/raw/train-images-idx3-ubyte.gz to data/MNIST/raw\n",
            "\n",
            "Downloading http://yann.lecun.com/exdb/mnist/train-labels-idx1-ubyte.gz\n",
            "Downloading http://yann.lecun.com/exdb/mnist/train-labels-idx1-ubyte.gz to data/MNIST/raw/train-labels-idx1-ubyte.gz\n"
          ]
        },
        {
          "output_type": "stream",
          "name": "stderr",
          "text": [
            "100%|██████████| 28881/28881 [00:00<00:00, 9480761.82it/s]\n"
          ]
        },
        {
          "output_type": "stream",
          "name": "stdout",
          "text": [
            "Extracting data/MNIST/raw/train-labels-idx1-ubyte.gz to data/MNIST/raw\n",
            "\n",
            "Downloading http://yann.lecun.com/exdb/mnist/t10k-images-idx3-ubyte.gz\n",
            "Downloading http://yann.lecun.com/exdb/mnist/t10k-images-idx3-ubyte.gz to data/MNIST/raw/t10k-images-idx3-ubyte.gz\n"
          ]
        },
        {
          "output_type": "stream",
          "name": "stderr",
          "text": [
            "100%|██████████| 1648877/1648877 [00:00<00:00, 26457525.73it/s]\n"
          ]
        },
        {
          "output_type": "stream",
          "name": "stdout",
          "text": [
            "Extracting data/MNIST/raw/t10k-images-idx3-ubyte.gz to data/MNIST/raw\n",
            "\n",
            "Downloading http://yann.lecun.com/exdb/mnist/t10k-labels-idx1-ubyte.gz\n",
            "Downloading http://yann.lecun.com/exdb/mnist/t10k-labels-idx1-ubyte.gz to data/MNIST/raw/t10k-labels-idx1-ubyte.gz\n"
          ]
        },
        {
          "output_type": "stream",
          "name": "stderr",
          "text": [
            "100%|██████████| 4542/4542 [00:00<00:00, 16888766.64it/s]\n"
          ]
        },
        {
          "output_type": "stream",
          "name": "stdout",
          "text": [
            "Extracting data/MNIST/raw/t10k-labels-idx1-ubyte.gz to data/MNIST/raw\n",
            "\n"
          ]
        }
      ]
    },
    {
      "cell_type": "code",
      "source": [
        "def train(model, data_loader, loss_fn, optimiser, epochs = 1):\n",
        "\n",
        "  for epoch in range(epochs):\n",
        "\n",
        "    # Total size of dataset for reference\n",
        "    size = 0\n",
        "\n",
        "    correct = 0\n",
        "    _correct = 0\n",
        "\n",
        "    # Feed each train sample to the Network\n",
        "    for input, target in data_loader:\n",
        "\n",
        "      #\n",
        "      # calculate loss\n",
        "      #\n",
        "      prediction = model(input)\n",
        "      one_hot_target = one_hot(target, NUM_CLASSES)\n",
        "      train_loss = loss_fn(prediction, one_hot_target)\n",
        "\n",
        "\n",
        "      #\n",
        "      # backpropagate error and update weights\n",
        "      #\n",
        "\n",
        "      # Sets gradients as 0\n",
        "      optimiser.zero_grad()\n",
        "      #  Compute the gradients using back_prop\n",
        "      train_loss.backward()\n",
        "      # update the parameters using the gradients\n",
        "      optimiser.step()\n",
        "\n",
        "\n",
        "\n",
        "      #\n",
        "      #      Some debuging!!\n",
        "      #\n",
        "      #\n",
        "\n",
        "      # # show the first 5 images and predictions\n",
        "      # imgs = input[:5 , 0 ,  : , : ]\n",
        "\n",
        "      # for i in range (5):\n",
        "      #   plt.figure(figsize=(2,2))\n",
        "      #   plt.imshow(imgs[i])\n",
        "      #   lable = target[i].item()\n",
        "      #   plt.xlabel(f\"{lable =}\")\n",
        "      #   plt.show()\n",
        "\n",
        "      #   max_index = torch.argmax(prediction[i])\n",
        "      #   print(f\"predicted class is: {max_index.item()}\")\n",
        "      #   print(f\"{one_hot_target[0] = } \\n {prediction[0]=}\")\n",
        "      # break\n",
        "\n",
        "\n",
        "\n",
        "      _correct = (prediction.argmax(1) == target).type(torch.float).sum().item()\n",
        "      _batch_size = len(input)\n",
        "\n",
        "      correct += _correct\n",
        "      size += _batch_size\n",
        "\n",
        "      loss = train_loss.item()\n",
        "\n",
        "\n",
        "    correct/=size\n",
        "\n",
        "    print(f\"epoch #{epoch + 1}\\t loss: {train_loss.item():.4f}\")\n",
        "    print(f\"Train Accuracy: {(100*correct):>0.1f}%\")\n",
        "\n",
        "\n",
        "\n",
        "  print(\"Training finished!\")"
      ],
      "metadata": {
        "id": "WjiEsvKt1hea"
      },
      "execution_count": null,
      "outputs": []
    },
    {
      "cell_type": "code",
      "source": [
        "\n",
        "# Build model\n",
        "feed_forward_net = Network()\n",
        "print(feed_forward_net)\n",
        "\n",
        "\n",
        "# initialise loss funtion + optimiser\n",
        "loss_fn = nn.CrossEntropyLoss()\n",
        "optimiser = torch.optim.Adam(feed_forward_net.parameters(),lr=LEARNING_RATE)\n",
        "\n",
        "# Train model\n",
        "train(feed_forward_net,train_loader, loss_fn, optimiser, 10)\n"
      ],
      "metadata": {
        "colab": {
          "base_uri": "https://localhost:8080/"
        },
        "id": "G8-Kywat1hhg",
        "outputId": "be76eeec-dd26-4f7f-d7ac-0593f0a7c3bf"
      },
      "execution_count": null,
      "outputs": [
        {
          "output_type": "stream",
          "name": "stdout",
          "text": [
            "Network(\n",
            "  (flatten): Flatten(start_dim=1, end_dim=-1)\n",
            "  (dense_layers): Sequential(\n",
            "    (0): Linear(in_features=784, out_features=256, bias=True)\n",
            "    (1): ReLU()\n",
            "    (2): Linear(in_features=256, out_features=10, bias=True)\n",
            "  )\n",
            "  (softmax): Softmax(dim=1)\n",
            ")\n",
            "epoch #1\t loss: 1.5903\n",
            "Train Accuracy: 87.7%\n",
            "epoch #2\t loss: 1.5205\n",
            "Train Accuracy: 93.6%\n",
            "epoch #3\t loss: 1.5057\n",
            "Train Accuracy: 95.1%\n",
            "epoch #4\t loss: 1.4887\n",
            "Train Accuracy: 96.0%\n",
            "epoch #5\t loss: 1.5103\n",
            "Train Accuracy: 96.7%\n",
            "epoch #6\t loss: 1.4724\n",
            "Train Accuracy: 97.2%\n",
            "epoch #7\t loss: 1.5032\n",
            "Train Accuracy: 97.6%\n",
            "epoch #8\t loss: 1.5021\n",
            "Train Accuracy: 97.9%\n",
            "epoch #9\t loss: 1.4945\n",
            "Train Accuracy: 98.1%\n",
            "epoch #10\t loss: 1.4741\n",
            "Train Accuracy: 98.3%\n",
            "Training finished!\n"
          ]
        }
      ]
    },
    {
      "cell_type": "code",
      "source": [
        "def predict(model, input):\n",
        "\n",
        "  model.eval()\n",
        "  with torch.no_grad():\n",
        "      predictions = model(input)\n",
        "      predicted_index = predictions.argmax(1)\n",
        "  return predicted_index"
      ],
      "metadata": {
        "id": "NJk1RW-05EzB"
      },
      "execution_count": null,
      "outputs": []
    },
    {
      "cell_type": "code",
      "source": [
        "test_loss = 0\n",
        "test_accu = 0\n",
        "size = 0\n",
        "correct = 0\n",
        "\n",
        "for i, (input, target) in enumerate(test_loader):\n",
        "\n",
        "  # make an inference\n",
        "  predicted = predict(feed_forward_net, input)\n",
        "\n",
        "  # print(f\"{predicted=} , {target=}\")\n",
        "\n",
        "  #\n",
        "  #      Some debuging!!\n",
        "  #\n",
        "  #\n",
        "\n",
        "  # # show the first 5 images and predictions\n",
        "  # imgs = input[:5 , 0 ,  : , : ]\n",
        "\n",
        "  # for i in range (5):\n",
        "  #   plt.figure(figsize=(2,2))\n",
        "  #   plt.imshow(imgs[i])\n",
        "  #   lable = target[i].item()\n",
        "  #   plt.xlabel(f\"{lable =}\")\n",
        "  #   plt.show()\n",
        "\n",
        "  #   max_index = torch.argmax(prediction[i])\n",
        "  #   print(f\"predicted class is: {max_index.item()}\")\n",
        "  #   print(f\"{one_hot_target[0] = } \\n {prediction[0]=}\")\n",
        "  # break\n",
        "\n",
        "  _correct = (predicted == target).type(torch.float).sum().item()\n",
        "  _batch_size = len(input)\n",
        "\n",
        "  correct += _correct\n",
        "  size += _batch_size\n",
        "\n",
        "correct/=size\n",
        "\n",
        "print(f\"Test Accuracy: {(100*correct):>0.1f}%\")"
      ],
      "metadata": {
        "colab": {
          "base_uri": "https://localhost:8080/"
        },
        "id": "Jf5UWKqr5CQQ",
        "outputId": "db9e2f72-1fdd-4060-9d64-6142eef320fe"
      },
      "execution_count": null,
      "outputs": [
        {
          "output_type": "stream",
          "name": "stdout",
          "text": [
            "Test Accuracy: 97.5%\n"
          ]
        }
      ]
    },
    {
      "cell_type": "code",
      "source": [],
      "metadata": {
        "id": "G5A6zjOJ63t_"
      },
      "execution_count": null,
      "outputs": []
    }
  ]
}